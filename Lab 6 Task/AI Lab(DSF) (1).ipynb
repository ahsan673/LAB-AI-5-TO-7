{
 "cells": [
  {
   "cell_type": "code",
   "execution_count": 1,
   "id": "83c0765b-e336-4f09-a4cd-7799bedfdd9e",
   "metadata": {},
   "outputs": [],
   "source": [
    "#Lab Task DFS(Part 1)"
   ]
  },
  {
   "cell_type": "code",
   "execution_count": 2,
   "id": "60210972-38ec-4c6a-89ba-53b63df4fd91",
   "metadata": {},
   "outputs": [],
   "source": [
    "tree = {\n",
    "    'A' : ['B','C'],\n",
    "    'B' : ['D','E'],\n",
    "    'C' : ['F','G'],\n",
    "    'D' : [],\n",
    "    'E' : [],\n",
    "    'F' : [],\n",
    "    'G' : [],\n",
    "}\n",
    "    "
   ]
  },
  {
   "cell_type": "code",
   "execution_count": 3,
   "id": "ca0533df-b8c1-4761-903f-25853766e09d",
   "metadata": {},
   "outputs": [],
   "source": [
    "# stack = []\n",
    "visited = list()\n",
    "\n",
    "def dfs(start,goal):\n",
    "    visited.append(start)\n",
    "    for neighbour in tree[start]:\n",
    "        dfs(neighbour,goal)\n",
    "        if neighbour == goal:\n",
    "            return\n",
    "    "
   ]
  },
  {
   "cell_type": "code",
   "execution_count": 4,
   "id": "3cd823fd-91d4-4e28-91bb-0c348f1007d7",
   "metadata": {},
   "outputs": [
    {
     "name": "stdout",
     "output_type": "stream",
     "text": [
      "['A', 'B', 'D', 'E', 'C', 'F']\n"
     ]
    }
   ],
   "source": [
    "dfs('A','F')\n",
    "print(visited)\n",
    "    "
   ]
  },
  {
   "cell_type": "code",
   "execution_count": 9,
   "id": "7dd2bd0f-e287-4938-a035-0ee4f456e3e3",
   "metadata": {},
   "outputs": [
    {
     "name": "stdout",
     "output_type": "stream",
     "text": [
      "Visit ['A', 'B', 'D', 'E', 'C', 'F']\n",
      "Updated tree {'A': ['B', 'C'], 'B': ['D', 'E'], 'C': ['F', 'G', 'H'], 'D': [], 'E': [], 'F': [], 'G': [], 'H': []}\n"
     ]
    }
   ],
   "source": [
    "#Lab Task DFS with Stack(Part 2)\n",
    "\n",
    "tree = {\n",
    "    'A' : ['B','C'],\n",
    "    'B' : ['D','E'],\n",
    "    'C' : ['F','G'],\n",
    "    'D' : [],\n",
    "    'E' : [],\n",
    "    'F' : [],\n",
    "    'G' : [],\n",
    "}\n",
    "\n",
    "def Node(Parent,Child):\n",
    "    if Parent in tree:\n",
    "        tree[Parent].append(Child)\n",
    "    else:\n",
    "        tree[Parent] = [Child]\n",
    "    tree[Child] = []\n",
    "\n",
    "visit = list()\n",
    "\n",
    "def DFS(Started,Goal):\n",
    "    STACK = [Started]\n",
    "    while STACK:\n",
    "        Node = STACK.pop()\n",
    "        if Node not in visit:\n",
    "            visit.append(Node)\n",
    "        if Node == Goal:\n",
    "            return\n",
    "        for Neighbour in reversed(tree[Node]):\n",
    "            if Neighbour not in visit:\n",
    "                STACK.append(Neighbour)\n",
    "\n",
    "Node(\"C\",\"H\")\n",
    "DFS(\"A\",\"F\")\n",
    "print(\"Visit\",visit)\n",
    "print(\"Updated tree\",tree)"
   ]
  },
  {
   "cell_type": "code",
   "execution_count": 13,
   "id": "ae4d4924-16d9-4f46-a7cc-aa005b0acd33",
   "metadata": {},
   "outputs": [
    {
     "name": "stdout",
     "output_type": "stream",
     "text": [
      "Preorder Traversal:\n",
      "A\n",
      "B\n",
      "D\n",
      "E\n",
      "C\n",
      "F\n",
      "G\n",
      "\n",
      "Inorder Traversal:\n",
      "D\n",
      "B\n",
      "E\n",
      "A\n",
      "F\n",
      "C\n",
      "G\n",
      "\n",
      "Postorder Traversal:\n",
      "D E B F G C A\n"
     ]
    }
   ],
   "source": [
    "#Lab Task DFS(Part 3)\n",
    "\n",
    "class Node:\n",
    "    def __init__(self, value):\n",
    "        self.value = value\n",
    "        self.left = None\n",
    "        self.right = None\n",
    "\n",
    "def Pre_Order(root):\n",
    "    if not root:\n",
    "        return\n",
    "    STACK = [root]  \n",
    "\n",
    "    while STACK:\n",
    "        current_node = STACK.pop()\n",
    "        print(current_node.value) \n",
    "\n",
    "        if current_node.right:\n",
    "            STACK.append(current_node.right)\n",
    "        if current_node.left:\n",
    "            STACK.append(current_node.left)\n",
    "\n",
    "def In_Order(root):\n",
    "    STACK = []\n",
    "    current_node = root\n",
    "\n",
    "    while STACK or current_node:\n",
    "        while current_node:\n",
    "            STACK.append(current_node)\n",
    "            current_node = current_node.left\n",
    "        \n",
    "        current_node = STACK.pop()  \n",
    "        print(current_node.value)  \n",
    "        \n",
    "        current_node = current_node.right  \n",
    "\n",
    "def Post_Order(root):\n",
    "    if not root:\n",
    "        return\n",
    "\n",
    "    STACK = [root]\n",
    "    output = []  \n",
    "\n",
    "    while STACK:\n",
    "        current_node = STACK.pop()\n",
    "        output.append(current_node.value)  \n",
    "\n",
    "        if current_node.left:\n",
    "            STACK.append(current_node.left)\n",
    "        if current_node.right:\n",
    "            STACK.append(current_node.right)\n",
    "\n",
    "    print(*output[::-1])  \n",
    "\n",
    "obj1 = Node('A')\n",
    "obj1.left = Node('B')\n",
    "obj1.right = Node('C')\n",
    "obj1.left.left = Node('D')\n",
    "obj1.left.right = Node('E')\n",
    "obj1.right.left = Node('F')\n",
    "obj1.right.right = Node('G')\n",
    "\n",
    "print(\"Preorder Traversal:\")\n",
    "Pre_Order(obj1)\n",
    "\n",
    "print(\"\\nInorder Traversal:\")\n",
    "In_Order(obj1)\n",
    "\n",
    "print(\"\\nPostorder Traversal:\")\n",
    "Post_Order(obj1)"
   ]
  },
  {
   "cell_type": "code",
   "execution_count": null,
   "id": "c8cbf319-8bdf-4910-88a3-7a9d0c46ecc4",
   "metadata": {},
   "outputs": [],
   "source": []
  }
 ],
 "metadata": {
  "kernelspec": {
   "display_name": "Python 3 (ipykernel)",
   "language": "python",
   "name": "python3"
  },
  "language_info": {
   "codemirror_mode": {
    "name": "ipython",
    "version": 3
   },
   "file_extension": ".py",
   "mimetype": "text/x-python",
   "name": "python",
   "nbconvert_exporter": "python",
   "pygments_lexer": "ipython3",
   "version": "3.12.4"
  }
 },
 "nbformat": 4,
 "nbformat_minor": 5
}
