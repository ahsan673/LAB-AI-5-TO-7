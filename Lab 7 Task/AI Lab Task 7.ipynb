{
 "cells": [
  {
   "cell_type": "code",
   "execution_count": 3,
   "id": "a374355d-4dd4-402d-8b6a-17a54a2faa33",
   "metadata": {},
   "outputs": [
    {
     "name": "stdout",
     "output_type": "stream",
     "text": [
      "Path from start to goal: [(4, 4)]\n"
     ]
    }
   ],
   "source": [
    "#Lab task 7\n",
    "\n",
    "class Node:\n",
    "    def __init__(self, position, g=0, h=0):\n",
    "        self.position = position \n",
    "        self.g = g \n",
    "        self.h = h \n",
    "        self.f = g + h \n",
    "\n",
    "    def __eq__(self, other):\n",
    "        return self.position == other.position\n",
    "\n",
    "\n",
    "def heuristic(a, b):\n",
    "    return abs(a[0] - b[0]) + abs(a[1] - b[1])\n",
    "\n",
    "def A_star(Started, Goal, grid):\n",
    "    open_list = []\n",
    "    closed_list = []\n",
    "\n",
    "    start_node = Node(Started, 0, Heuristic(Started, Goal))\n",
    "    open_list.append(start_node)\n",
    "\n",
    "    while open_list:\n",
    "        open_list.sort(key=lambda node: node.f)\n",
    "        current_node = open_list.pop(0)\n",
    "\n",
    "        if current_node.position == goal:\n",
    "            return reconstruct_path(current_node)\n",
    "\n",
    "        closed_list.append(current_node)\n",
    "\n",
    "        for new_position in [(0, 1), (1, 0), (0, -1), (-1, 0)]:\n",
    "            node_position = (current_node.position[0] + new_position[0],\n",
    "                             current_node.position[1] + new_position[1])\n",
    "\n",
    "            if (0 <= node_position[0] < len(grid) and\n",
    "                    0 <= node_position[1] < len(grid[0]) and\n",
    "                    grid[node_position[0]][node_position[1]] == 0):\n",
    "\n",
    "                g_cost = current_node.g + 1\n",
    "                h_cost = heuristic(node_position, goal)\n",
    "                child_node = Node(node_position, g_cost, h_cost)\n",
    "\n",
    "                if child_node in closed_list:\n",
    "                    continue\n",
    "                    \n",
    "                for open_node in open_list:\n",
    "                    if child_node == open_node and child_node.g > open_node.g:\n",
    "                        break\n",
    "                else:\n",
    "                    open_list.append(child_node)\n",
    "\n",
    "    return None \n",
    "\n",
    "\n",
    "def reconstruct_path(node):\n",
    "    path = []\n",
    "    while node:\n",
    "        path.append(node.position)\n",
    "        node = node.parent if hasattr(node, 'parent') else None\n",
    "    return path[::-1]\n",
    "\n",
    "grid = [\n",
    "    [0, 0, 0, 0, 0],\n",
    "    [0, 1, 1, 1, 0],\n",
    "    [0, 0, 0, 0, 0],\n",
    "    [0, 1, 1, 1, 0],\n",
    "    [0, 0, 0, 0, 0]\n",
    "]\n",
    "\n",
    "start = (0, 0)\n",
    "goal = (4, 4)\n",
    "path = A_star(start, goal, grid)\n",
    "\n",
    "print(\"Path from start to goal:\", path)"
   ]
  },
  {
   "cell_type": "code",
   "execution_count": null,
   "id": "ce49dff4-30ed-49cf-bafb-0bc8ed2430b6",
   "metadata": {},
   "outputs": [],
   "source": []
  }
 ],
 "metadata": {
  "kernelspec": {
   "display_name": "Python 3 (ipykernel)",
   "language": "python",
   "name": "python3"
  },
  "language_info": {
   "codemirror_mode": {
    "name": "ipython",
    "version": 3
   },
   "file_extension": ".py",
   "mimetype": "text/x-python",
   "name": "python",
   "nbconvert_exporter": "python",
   "pygments_lexer": "ipython3",
   "version": "3.12.4"
  }
 },
 "nbformat": 4,
 "nbformat_minor": 5
}
