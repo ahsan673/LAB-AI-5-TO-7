{
 "cells": [
  {
   "cell_type": "code",
   "execution_count": 3,
   "id": "3d8e6b68-4798-44a6-b46c-1522ab2a012f",
   "metadata": {},
   "outputs": [
    {
     "name": "stdout",
     "output_type": "stream",
     "text": [
      "['A', 'B', 'C', 'D', 'E', 'F', 'G']\n"
     ]
    }
   ],
   "source": [
    "# Task 5 BFS(Part 1)\n",
    "\n",
    "tree = {\n",
    "    'A' : ['B','C'],\n",
    "    'B' : ['D','E'],\n",
    "    'C' : ['F','G'],\n",
    "    'D' : [],\n",
    "    'E' : [],\n",
    "    'F' : [],\n",
    "    'G' : [],\n",
    "}\n",
    "\n",
    "visit = []\n",
    "\n",
    "def BFS(started):\n",
    "    visit.clear()\n",
    "    def BFS_Recursive(current_level):\n",
    "        if not current_level:\n",
    "            return\n",
    "        next_level = []\n",
    "        for node in current_level:\n",
    "            if node not in visit:\n",
    "                visit.append(node)\n",
    "                next_level.extend(tree[node])\n",
    "        BFS_Recursive(next_level)\n",
    "    BFS_Recursive([started])\n",
    "\n",
    "BFS(\"A\")\n",
    "print(visit)"
   ]
  },
  {
   "cell_type": "code",
   "execution_count": 6,
   "id": "47e5d00a-7530-4d35-bfd7-7c7f0c8a7f69",
   "metadata": {},
   "outputs": [
    {
     "name": "stdout",
     "output_type": "stream",
     "text": [
      "['A', 'B', 'C', 'D', 'E', 'F', 'G']\n"
     ]
    }
   ],
   "source": [
    "#Lab Task BFS with que and node(Part 2)\n",
    "\n",
    "tree = {\n",
    "    'A' : ['B','C'],\n",
    "    'B' : ['D','E'],\n",
    "    'C' : ['F','G'],\n",
    "    'D' : [],\n",
    "    'E' : [],\n",
    "    'F' : [],\n",
    "    'G' : [],\n",
    "}\n",
    "\n",
    "visit = []\n",
    "\n",
    "def BFS(started):\n",
    "    visit.clear()\n",
    "    Que = [started]\n",
    "    while Que:\n",
    "        node = Que.pop(0)\n",
    "        if node not in visit:\n",
    "            visit.append(node)\n",
    "            Que.extend(tree[node])\n",
    "\n",
    "BFS(\"A\")\n",
    "print(visit)"
   ]
  },
  {
   "cell_type": "code",
   "execution_count": null,
   "id": "c136cccb-25db-4aa8-9d6b-41127ef637af",
   "metadata": {},
   "outputs": [],
   "source": []
  }
 ],
 "metadata": {
  "kernelspec": {
   "display_name": "Python 3 (ipykernel)",
   "language": "python",
   "name": "python3"
  },
  "language_info": {
   "codemirror_mode": {
    "name": "ipython",
    "version": 3
   },
   "file_extension": ".py",
   "mimetype": "text/x-python",
   "name": "python",
   "nbconvert_exporter": "python",
   "pygments_lexer": "ipython3",
   "version": "3.12.4"
  }
 },
 "nbformat": 4,
 "nbformat_minor": 5
}
